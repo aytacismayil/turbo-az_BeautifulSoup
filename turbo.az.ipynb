{
 "cells": [
  {
   "cell_type": "code",
   "execution_count": 9,
   "metadata": {},
   "outputs": [
    {
     "name": "stdout",
     "output_type": "stream",
     "text": [
      "enter your file name turbo\n"
     ]
    }
   ],
   "source": [
    "import requests as re\n",
    "from bs4 import BeautifulSoup\n",
    "class Turbo:\n",
    "    def __init__(self,website):\n",
    "        self.website=website\n",
    "    def read_data(self):\n",
    "        a=re.get(\"https://turbo.az/\")\n",
    "        soup=BeautifulSoup(a.text,\"html.parser\")\n",
    "        return soup\n",
    "    def write_to_file(self,data,file_name):\n",
    "        divs=data.find_all(\"div\",class_=\"products-description\")\n",
    "        for div in divs:\n",
    "            p=div.find(\"p\",class_=\"products-name\").text\n",
    "            date=div.find(\"div\",class_=\"products-bottom\").text\n",
    "            f=open(f\"{file_name}.txt\",\"a\")\n",
    "            f.write(p + \" \" + date +\"\\n\"+\"------\"+\"\\n\" )\n",
    "        f.close()\n",
    "turbo=Turbo(\"https://turbo.az/\")\n",
    "data=turbo.read_data()\n",
    "file_name=input(\"enter your file name\")\n",
    "turbo.write_to_file(data,file_name)"
   ]
  },
  {
   "cell_type": "code",
   "execution_count": null,
   "metadata": {},
   "outputs": [],
   "source": []
  },
  {
   "cell_type": "code",
   "execution_count": null,
   "metadata": {},
   "outputs": [],
   "source": []
  }
 ],
 "metadata": {
  "kernelspec": {
   "display_name": "Python 3",
   "language": "python",
   "name": "python3"
  },
  "language_info": {
   "codemirror_mode": {
    "name": "ipython",
    "version": 3
   },
   "file_extension": ".py",
   "mimetype": "text/x-python",
   "name": "python",
   "nbconvert_exporter": "python",
   "pygments_lexer": "ipython3",
   "version": "3.7.3"
  }
 },
 "nbformat": 4,
 "nbformat_minor": 2
}
